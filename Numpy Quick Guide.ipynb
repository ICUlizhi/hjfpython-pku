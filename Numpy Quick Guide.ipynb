{
 "cells": [
  {
   "cell_type": "markdown",
   "id": "cc34e5cc-b554-428a-a2d6-6e0b68f51ce2",
   "metadata": {},
   "source": [
    "### 0.numpy导包和查看版本命令"
   ]
  },
  {
   "cell_type": "code",
   "execution_count": 1,
   "id": "ee4daef8-cf37-426b-a1ae-2a8c247cf946",
   "metadata": {},
   "outputs": [
    {
     "name": "stdout",
     "output_type": "stream",
     "text": [
      "1.26.2\n"
     ]
    }
   ],
   "source": [
    "import numpy as np\n",
    "print(np.__version__)"
   ]
  },
  {
   "cell_type": "markdown",
   "id": "b246436c-881a-4afa-9fd8-cd3977dc9334",
   "metadata": {},
   "source": [
    "### 1.数组\n",
    "#### 1.1 array(object)\n",
    "> array(object,dtype=None, copy=True, order=‘K’, subok=False, ndmin=0)\n",
    "- object : **可迭代对象**(判断对象是否可迭代:collections库isinstance方法)\n",
    "- dtype : 数据类型\n",
    "- copy : bool值,表示是否复制!此处引用到数组的复制!\n",
    "- order : 元素在内存中出现的顺序,可以是\"K\"\"A\"\"F\"\"C\",\n",
    "    - \"K”,表示元素在内存中出现的顺序。\n",
    "    - “C”表示按行优先(row-major)\n",
    "    - “F”表示按列优先。\n",
    "    - 如果object是一个数组，则还可以是\"A”，表示原顺序。\n",
    "- subok : bool值,表示返回的数组默认为**基类数组**。如果为True则将传递子类\n",
    "- ndmin : 生成数组的**最小维度**(不足则补充)"
   ]
  },
  {
   "cell_type": "markdown",
   "id": "0b885faf-0f66-456d-bf6b-c8881ba5edae",
   "metadata": {},
   "source": [
    "##### 1.1.1 列表创建\n",
    "如下图,分别创建出了一维、二维、三维数组，并打印出了其shape。"
   ]
  },
  {
   "cell_type": "code",
   "execution_count": 2,
   "id": "90bcecc0-c4ac-411a-9fa2-4ef26e3306fd",
   "metadata": {},
   "outputs": [
    {
     "name": "stdout",
     "output_type": "stream",
     "text": [
      "[1 2 3 4 5] (5,)\n",
      "[[1 2 3 4 5]] (1, 5)\n",
      "[[[1 2 3 4 5]]] (1, 1, 5)\n"
     ]
    }
   ],
   "source": [
    "a1 = np.array([1, 2, 3, 4, 5])\n",
    "print(a1,a1.shape)\n",
    "\n",
    "a2 = np.array([1, 2, 3, 4, 5], ndmin=2)\n",
    "print(a2, a2.shape)\n",
    "\n",
    "a3 = np.array([1, 2, 3, 4, 5], ndmin=3)\n",
    "print(a3, a3.shape)"
   ]
  },
  {
   "cell_type": "markdown",
   "id": "31f48962-306d-4aed-b801-fbf3a820eca2",
   "metadata": {},
   "source": [
    "##### 1.1.2 通过元组创建"
   ]
  },
  {
   "cell_type": "code",
   "execution_count": 3,
   "id": "773ecb26-7f3e-4e2c-af13-3a8f936a5b5f",
   "metadata": {},
   "outputs": [
    {
     "name": "stdout",
     "output_type": "stream",
     "text": [
      "[1. 2. 3. 4. 5.]\n"
     ]
    }
   ],
   "source": [
    "a2 = np.array((1.,2.,3.,4.,5.))\n",
    "print(a2)"
   ]
  },
  {
   "cell_type": "markdown",
   "id": "56938ace-35c4-42dd-9afd-a0a7d0440b05",
   "metadata": {},
   "source": [
    "##### 1.1.3 通过字符串创建"
   ]
  },
  {
   "cell_type": "code",
   "execution_count": 4,
   "id": "90788f5b-f749-460c-a3ae-8c01c48834db",
   "metadata": {},
   "outputs": [
    {
     "name": "stdout",
     "output_type": "stream",
     "text": [
      "123 <class 'numpy.ndarray'>\n"
     ]
    }
   ],
   "source": [
    "a3=np.array('123')\n",
    "print(a3,type(a3))"
   ]
  },
  {
   "cell_type": "markdown",
   "id": "142a4b4f-42a4-423e-bee6-bc44bf825a4b",
   "metadata": {},
   "source": [
    "##### 1.1.4 通过数组创建"
   ]
  },
  {
   "cell_type": "code",
   "execution_count": 5,
   "id": "c319d8b8-b5a0-457f-9a8e-6561dab82209",
   "metadata": {},
   "outputs": [
    {
     "name": "stdout",
     "output_type": "stream",
     "text": [
      "[1 2 3 4 5]\n",
      "[[1. 2. 3. 4. 5.]\n",
      " [1. 2. 3. 4. 5.]]\n"
     ]
    }
   ],
   "source": [
    "n1=np.array(a1)\n",
    "print(n1)\n",
    "n2=np.array([a1,a2]) #发生类型转换\n",
    "n3=np.array(n2)\n",
    "print(n3)"
   ]
  },
  {
   "cell_type": "markdown",
   "id": "63a4a1d0-3286-4454-8d48-7d01b275b539",
   "metadata": {},
   "source": [
    "##### 1.1.5 数组的复制\n",
    "当我们需要修改数组又不想影响到目标数组时,通常可以通过\"用数组创建数组\",进而实现对目标数组的复制操作。<br/>\n",
    "下例是不复制的情形(n1和n2共用储存):"
   ]
  },
  {
   "cell_type": "code",
   "execution_count": 6,
   "id": "3b2b6082-640b-47ec-8760-1ba7449f1bfa",
   "metadata": {},
   "outputs": [
    {
     "name": "stdout",
     "output_type": "stream",
     "text": [
      "n1: [1 2 3]\n",
      "n2: [1 2 3]\n",
      "n1和n2的序列号是否相同: True\n",
      "**********修改n2的第一个数据***********\n",
      "n1: [100   2   3]\n",
      "n2: [100   2   3]\n"
     ]
    }
   ],
   "source": [
    "n1 = np.array([1, 2, 3])\n",
    "n2 = np.array(n1)\n",
    "n1 = np.array([1, 2, 3])\n",
    "n2 = np.array(n1, copy=False)\n",
    "print(\"n1:\", n1)\n",
    "print(\"n2:\", n2)\n",
    "print(\"n1和n2的序列号是否相同:\",n1 is n2)\n",
    "n2[0] =100\n",
    "print(\"**********修改n2的第一个数据***********\")\n",
    "print(\"n1:\", n1)\n",
    "print(\"n2:\", n2)"
   ]
  },
  {
   "cell_type": "markdown",
   "id": "ebca02ee-929d-4c38-8358-36f11dc5c985",
   "metadata": {},
   "source": [
    "##### 1.1.6 通过range创建"
   ]
  },
  {
   "cell_type": "code",
   "execution_count": 7,
   "id": "07dc4d4c-b133-432a-b16b-f962731f8371",
   "metadata": {},
   "outputs": [
    {
     "name": "stdout",
     "output_type": "stream",
     "text": [
      "[0 1 2 3 4 5 6 7 8 9]\n"
     ]
    }
   ],
   "source": [
    "a1 = np.array(list(range(10)))\n",
    "print(a1)"
   ]
  },
  {
   "cell_type": "markdown",
   "id": "70ddb96a-de78-4d05-8bc0-94609f602464",
   "metadata": {},
   "source": [
    "#### 1.2 arange()方法\n",
    "arrange是numpy对range优化过后的方法，常用来创建数组。而通常不再采用上边的range()方法。\n",
    "> arange(start,stop,step,dtype=None)\n",
    "- 取值方式为**左开右闭**\n",
    "- 结果可以是整型"
   ]
  },
  {
   "cell_type": "code",
   "execution_count": 15,
   "id": "039c716b-f024-4b61-9fac-64262c9a73a4",
   "metadata": {},
   "outputs": [
    {
     "name": "stdout",
     "output_type": "stream",
     "text": [
      "[0 2 4 6 8]\n",
      "[0 2 4 6 8]\n",
      "[ 0  2  4  6  8 10]\n",
      "[ 0.   2.1  4.2  6.3  8.4 10.5]\n"
     ]
    }
   ],
   "source": [
    "a1 = np.arange(0, 10, 2)\n",
    "print(a1)\n",
    "a1 = np.arange(0, 9, 2)\n",
    "print(a1)\n",
    "a1 = np.arange(0, 11, 2)\n",
    "print(a1)\n",
    "a1 = np.arange(0, 11, 2.1)\n",
    "print(a3)"
   ]
  },
  {
   "cell_type": "markdown",
   "id": "d4ee592d-cfc5-4a53-8bb5-6a13448b1e20",
   "metadata": {},
   "source": [
    "#### 1.3 linspace()(等差),logspace()(等比)\n",
    "> linspace(start, stop, num=50, end_point=True, restep=False, dtype=None)\n",
    "- endpoint : bool值,默认为True,表示包含stop\n",
    "- restep bool值,默认为True,表示生成的数组显示间距\n",
    "- 无论结果是否是整数，都默认为是浮点型\n",
    "> logspace(start, stop, num=50, end_point=True, base=10.0, dtype=None)\n",
    "- 序列的起始值为 $base^{start}$ ,结束值为 $base^{stop}$"
   ]
  },
  {
   "cell_type": "code",
   "execution_count": 32,
   "id": "46993d92-b940-4ffd-84a3-8a856dcda206",
   "metadata": {},
   "outputs": [
    {
     "name": "stdout",
     "output_type": "stream",
     "text": [
      "[100. 110. 120. 130. 140. 150. 160. 170. 180. 190. 200.]\n",
      "[   1    4   16   64  256 1024]\n"
     ]
    }
   ],
   "source": [
    "n1 = np.linspace(100, 200, 11)\n",
    "print(n1)\n",
    "n1 = np.logspace(0, 10, 6, base=2, dtype='int')\n",
    "print(n1)"
   ]
  },
  {
   "cell_type": "markdown",
   "id": "cb2ee5b2-4660-4ec6-abc9-944c2ba56887",
   "metadata": {},
   "source": [
    "#### 1.5 empty()与ones()\n",
    "> numpy.empty(shape, dtype=float, order='C', *, device=None, like=None)<br/>\n",
    "> numpy.ones(shape, dtype=None, order='C', *, device=None, like=None)<br/>\n",
    "> numpy.zeros(shape, dtype=float, order='C', *, like=None)<br/>\n",
    "> numpy.full(shape, fill_value, dtype=None, order='C', *, device=None, like=None)<br/>\n",
    "> numpy.shape(a)<br/>\n",
    "\n",
    "- ```shape```返回整数元组,```empty```构造全空数组,```ones```构造全1数组,```zeros```\n",
    "> ```device``` : 在哪里创建数组,仅针对Array-API互操作性,因此如果通过,则必须为“cpu”.<br/>\n",
    "> ```like``` : \n",
    "引用对象，以允许创建不是NumPy数组的,组。如果像这样传入的数组支持__array_function__议，则结果将由其.义。在这种情,下，它确保创建与通过此参数传入的数组对象兼容的数组.象。"
   ]
  },
  {
   "cell_type": "code",
   "execution_count": 38,
   "id": "e0d8f729-110a-4780-8d3c-c028cdbdd04f",
   "metadata": {},
   "outputs": [
    {
     "name": "stdout",
     "output_type": "stream",
     "text": [
      "(3,)\n",
      "======================================================================\n",
      "[[ 0.  2.  4.]\n",
      " [ 6.  8. 10.]]\n",
      "======================================================================\n",
      "[[1 2 3]\n",
      " [4 5 6]]\n"
     ]
    }
   ],
   "source": [
    "a = np.array([(1, 2), (3, 4), (5, 6)], dtype=[('x', 'i4'), ('y', 'i4')])\n",
    "print(a.shape)\n",
    "print(\"======================================================================\")\n",
    "n1 = np.empty([2, 3])\n",
    "print(n1)\n",
    "print(\"======================================================================\")\n",
    "n2 = np.empty([2, 3], dtype=int)\n",
    "print(n2)"
   ]
  },
  {
   "cell_type": "markdown",
   "id": "45ebb7fc-8f2e-4c95-b0ca-fd65b92632f4",
   "metadata": {},
   "source": [
    "### 2.常数"
   ]
  },
  {
   "cell_type": "code",
   "execution_count": 31,
   "id": "b77f0f7d-5d64-4236-8899-98c97f958358",
   "metadata": {
    "scrolled": true
   },
   "outputs": [
    {
     "name": "stdout",
     "output_type": "stream",
     "text": [
      "2.718281828459045 0.5772156649015329 3.141592653589793 None nan inf\n"
     ]
    }
   ],
   "source": [
    "print(np.e,np.euler_gamma,np.pi,np.newaxis,np.nan,np.inf)"
   ]
  },
  {
   "cell_type": "code",
   "execution_count": null,
   "id": "16985533-c9e7-4d7e-a147-9b2a698132aa",
   "metadata": {},
   "outputs": [],
   "source": []
  }
 ],
 "metadata": {
  "kernelspec": {
   "display_name": "Python 3 (ipykernel)",
   "language": "python",
   "name": "python3"
  },
  "language_info": {
   "codemirror_mode": {
    "name": "ipython",
    "version": 3
   },
   "file_extension": ".py",
   "mimetype": "text/x-python",
   "name": "python",
   "nbconvert_exporter": "python",
   "pygments_lexer": "ipython3",
   "version": "3.12.0"
  }
 },
 "nbformat": 4,
 "nbformat_minor": 5
}
