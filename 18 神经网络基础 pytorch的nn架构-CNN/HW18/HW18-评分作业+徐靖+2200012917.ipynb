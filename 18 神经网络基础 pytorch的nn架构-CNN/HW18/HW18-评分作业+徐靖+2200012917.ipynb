{
 "cells": [
  {
   "cell_type": "markdown",
   "metadata": {},
   "source": [
    "# 第十八、十九、二十次课-评分作业\n",
    "**此次作业<span style=\"color:red;\">成绩计入总评</span>，总分11分，高于10分的部分视为附加题成绩**\n",
    "\n",
    "**请将作业命名为<span style=\"color:red;\">HW18-评分作业+姓名+学号.ipynb</span>, 并于<span style=\"color:red;\">6月10日23:59前</span>提交**"
   ]
  },
  {
   "cell_type": "code",
   "execution_count": 1,
   "metadata": {},
   "outputs": [],
   "source": [
    "import numpy as np\n",
    "import torch\n",
    "import torch.nn as nn\n",
    "import torch.optim as optim\n",
    "import torch.nn.functional as F\n",
    "from torch.utils.data import DataLoader, Dataset\n",
    "from torchvision import datasets\n",
    "from torchvision.transforms import ToTensor, Lambda\n",
    "from matplotlib import pyplot as plt\n",
    "from io import open\n",
    "import os, string, random, time, math\n",
    "import matplotlib.pyplot as plt\n",
    "import seaborn as sns\n",
    "import numpy as np\n",
    "import glob\n",
    "from sklearn.model_selection import train_test_split\n",
    "import torch \n",
    "import torch.nn as nn\n",
    "import torch.optim as optim\n",
    "from IPython.display import clear_output\n",
    "torch.manual_seed(0)\n",
    "np.random.seed(0)"
   ]
  },
  {
   "cell_type": "markdown",
   "metadata": {},
   "source": [
    "### 读取数据并划分数据集（勿更改代码）"
   ]
  },
  {
   "cell_type": "code",
   "execution_count": 2,
   "metadata": {},
   "outputs": [],
   "source": [
    "\n",
    "def findFiles(path): \n",
    "    return glob.glob(path)\n",
    "tags = []\n",
    "X = []\n",
    "y = []\n",
    "\n",
    "\n",
    "def readLines(filename):\n",
    "    lines = open(filename, encoding='utf-8').read().strip().split('\\n')\n",
    "    return lines\n",
    "\n",
    "for filename in findFiles('data/*.txt'):\n",
    "    language = os.path.splitext(os.path.basename(filename))[0]\n",
    "    if language not in tags:\n",
    "        tags.append(language)\n",
    "    lines = readLines(filename)\n",
    "    for line in lines:\n",
    "        X.append(line)\n",
    "        y.append(language)\n",
    "\n",
    "n_tags = len(tags)\n",
    "\n",
    "\n",
    "X_train, X_test, y_train, y_test = train_test_split(X, y, test_size = 0.2, random_state =10, stratify = y)"
   ]
  },
  {
   "cell_type": "markdown",
   "metadata": {},
   "source": [
    "# 一、隐马尔可夫模型（2分）"
   ]
  },
  {
   "cell_type": "markdown",
   "metadata": {},
   "source": [
    "### 1.1 准备数据（0.5分）"
   ]
  },
  {
   "cell_type": "code",
   "execution_count": 3,
   "metadata": {},
   "outputs": [],
   "source": [
    "from hmmlearn import hmm\n",
    "import numpy as np\n",
    "from sklearn.preprocessing import LabelEncoder\n",
    "\n",
    "# 标签编码\n",
    "le = LabelEncoder()\n",
    "y_train_encoded = le.fit_transform(y_train)\n",
    "y_test_encoded = le.transform(y_test)"
   ]
  },
  {
   "cell_type": "code",
   "execution_count": 4,
   "metadata": {},
   "outputs": [],
   "source": [
    "def extract_features(data):\n",
    "    # TODO: 0.5分\n",
    "    X_features = []\n",
    "    X_lengths = []\n",
    "    for sequence in data:\n",
    "        features = [ord(char) for char in sequence]  # Convert each character to its ASCII value\n",
    "        X_features.extend(features)\n",
    "        X_lengths.append(len(features))\n",
    "    return np.array(X_features).reshape(-1, 1), X_lengths\n",
    "\n",
    "X_train_features, X_train_lengths = extract_features(X_train)\n",
    "X_test_features, X_test_lengths = extract_features(X_test)"
   ]
  },
  {
   "cell_type": "markdown",
   "metadata": {},
   "source": [
    "### 1.2 使用HMM模型进行训练、预测（1分）"
   ]
  },
  {
   "cell_type": "code",
   "execution_count": 5,
   "metadata": {},
   "outputs": [
    {
     "name": "stderr",
     "output_type": "stream",
     "text": [
      "MultinomialHMM has undergone major changes. The previous version was implementing a CategoricalHMM (a special case of MultinomialHMM). This new implementation follows the standard definition for a Multinomial distribution (e.g. as in https://en.wikipedia.org/wiki/Multinomial_distribution). See these issues for details:\n",
      "https://github.com/hmmlearn/hmmlearn/issues/335\n",
      "https://github.com/hmmlearn/hmmlearn/issues/340\n"
     ]
    },
    {
     "data": {
      "text/html": [
       "<style>#sk-container-id-1 {color: black;}#sk-container-id-1 pre{padding: 0;}#sk-container-id-1 div.sk-toggleable {background-color: white;}#sk-container-id-1 label.sk-toggleable__label {cursor: pointer;display: block;width: 100%;margin-bottom: 0;padding: 0.3em;box-sizing: border-box;text-align: center;}#sk-container-id-1 label.sk-toggleable__label-arrow:before {content: \"▸\";float: left;margin-right: 0.25em;color: #696969;}#sk-container-id-1 label.sk-toggleable__label-arrow:hover:before {color: black;}#sk-container-id-1 div.sk-estimator:hover label.sk-toggleable__label-arrow:before {color: black;}#sk-container-id-1 div.sk-toggleable__content {max-height: 0;max-width: 0;overflow: hidden;text-align: left;background-color: #f0f8ff;}#sk-container-id-1 div.sk-toggleable__content pre {margin: 0.2em;color: black;border-radius: 0.25em;background-color: #f0f8ff;}#sk-container-id-1 input.sk-toggleable__control:checked~div.sk-toggleable__content {max-height: 200px;max-width: 100%;overflow: auto;}#sk-container-id-1 input.sk-toggleable__control:checked~label.sk-toggleable__label-arrow:before {content: \"▾\";}#sk-container-id-1 div.sk-estimator input.sk-toggleable__control:checked~label.sk-toggleable__label {background-color: #d4ebff;}#sk-container-id-1 div.sk-label input.sk-toggleable__control:checked~label.sk-toggleable__label {background-color: #d4ebff;}#sk-container-id-1 input.sk-hidden--visually {border: 0;clip: rect(1px 1px 1px 1px);clip: rect(1px, 1px, 1px, 1px);height: 1px;margin: -1px;overflow: hidden;padding: 0;position: absolute;width: 1px;}#sk-container-id-1 div.sk-estimator {font-family: monospace;background-color: #f0f8ff;border: 1px dotted black;border-radius: 0.25em;box-sizing: border-box;margin-bottom: 0.5em;}#sk-container-id-1 div.sk-estimator:hover {background-color: #d4ebff;}#sk-container-id-1 div.sk-parallel-item::after {content: \"\";width: 100%;border-bottom: 1px solid gray;flex-grow: 1;}#sk-container-id-1 div.sk-label:hover label.sk-toggleable__label {background-color: #d4ebff;}#sk-container-id-1 div.sk-serial::before {content: \"\";position: absolute;border-left: 1px solid gray;box-sizing: border-box;top: 0;bottom: 0;left: 50%;z-index: 0;}#sk-container-id-1 div.sk-serial {display: flex;flex-direction: column;align-items: center;background-color: white;padding-right: 0.2em;padding-left: 0.2em;position: relative;}#sk-container-id-1 div.sk-item {position: relative;z-index: 1;}#sk-container-id-1 div.sk-parallel {display: flex;align-items: stretch;justify-content: center;background-color: white;position: relative;}#sk-container-id-1 div.sk-item::before, #sk-container-id-1 div.sk-parallel-item::before {content: \"\";position: absolute;border-left: 1px solid gray;box-sizing: border-box;top: 0;bottom: 0;left: 50%;z-index: -1;}#sk-container-id-1 div.sk-parallel-item {display: flex;flex-direction: column;z-index: 1;position: relative;background-color: white;}#sk-container-id-1 div.sk-parallel-item:first-child::after {align-self: flex-end;width: 50%;}#sk-container-id-1 div.sk-parallel-item:last-child::after {align-self: flex-start;width: 50%;}#sk-container-id-1 div.sk-parallel-item:only-child::after {width: 0;}#sk-container-id-1 div.sk-dashed-wrapped {border: 1px dashed gray;margin: 0 0.4em 0.5em 0.4em;box-sizing: border-box;padding-bottom: 0.4em;background-color: white;}#sk-container-id-1 div.sk-label label {font-family: monospace;font-weight: bold;display: inline-block;line-height: 1.2em;}#sk-container-id-1 div.sk-label-container {text-align: center;}#sk-container-id-1 div.sk-container {/* jupyter's `normalize.less` sets `[hidden] { display: none; }` but bootstrap.min.css set `[hidden] { display: none !important; }` so we also need the `!important` here to be able to override the default hidden behavior on the sphinx rendered scikit-learn.org. See: https://github.com/scikit-learn/scikit-learn/issues/21755 */display: inline-block !important;position: relative;}#sk-container-id-1 div.sk-text-repr-fallback {display: none;}</style><div id=\"sk-container-id-1\" class=\"sk-top-container\"><div class=\"sk-text-repr-fallback\"><pre>MultinomialHMM(n_components=13, n_iter=100,\n",
       "               n_trials=array([109,  97, 108, ..., 101,  99, 101]),\n",
       "               random_state=RandomState(MT19937) at 0x2117B17B440)</pre><b>In a Jupyter environment, please rerun this cell to show the HTML representation or trust the notebook. <br />On GitHub, the HTML representation is unable to render, please try loading this page with nbviewer.org.</b></div><div class=\"sk-container\" hidden><div class=\"sk-item\"><div class=\"sk-estimator sk-toggleable\"><input class=\"sk-toggleable__control sk-hidden--visually\" id=\"sk-estimator-id-1\" type=\"checkbox\" checked><label for=\"sk-estimator-id-1\" class=\"sk-toggleable__label sk-toggleable__label-arrow\">MultinomialHMM</label><div class=\"sk-toggleable__content\"><pre>MultinomialHMM(n_components=13, n_iter=100,\n",
       "               n_trials=array([109,  97, 108, ..., 101,  99, 101]),\n",
       "               random_state=RandomState(MT19937) at 0x2117B17B440)</pre></div></div></div></div></div>"
      ],
      "text/plain": [
       "MultinomialHMM(n_components=13, n_iter=100,\n",
       "               n_trials=array([109,  97, 108, ..., 101,  99, 101]),\n",
       "               random_state=RandomState(MT19937) at 0x2117B17B440)"
      ]
     },
     "execution_count": 5,
     "metadata": {},
     "output_type": "execute_result"
    }
   ],
   "source": [
    "# 训练HMM模型\n",
    "hmm_model = hmm.MultinomialHMM(n_components=n_tags, n_iter=100)\n",
    "hmm_model.fit(X_train_features, X_train_lengths)"
   ]
  },
  {
   "cell_type": "code",
   "execution_count": 6,
   "metadata": {},
   "outputs": [],
   "source": [
    "# HMM预测\n",
    "def hmm_predict(model, X, lengths):\n",
    "    # TODO: 1分\n",
    "    start = 0\n",
    "    y_pred = []\n",
    "    for length in lengths:\n",
    "        end = start + length\n",
    "        sequence = X[start:end]\n",
    "        logprob, state_sequence = model.decode(sequence, algorithm=\"viterbi\")\n",
    "        y_pred.append(state_sequence[0])  # Using the state of the first observation as prediction\n",
    "        start = end\n",
    "    return np.array(y_pred)\n",
    "\n",
    "\n",
    "y_train_pred = hmm_predict(hmm_model, X_train_features, X_train_lengths)\n",
    "y_test_pred = hmm_predict(hmm_model, X_test_features, X_test_lengths)\n"
   ]
  },
  {
   "cell_type": "markdown",
   "metadata": {},
   "source": [
    "### 1.3 模型评估（0.5分）"
   ]
  },
  {
   "cell_type": "code",
   "execution_count": 7,
   "metadata": {},
   "outputs": [
    {
     "name": "stdout",
     "output_type": "stream",
     "text": [
      "HMM结果\n",
      "train set accuracy: 0.0413\n",
      "test set accuracy: 0.0413\n"
     ]
    }
   ],
   "source": [
    "# 评估函数\n",
    "def evaluate(y_true, y_pred):\n",
    "    # TODO: 0.5分\n",
    "    correct = 0\n",
    "    for i in range(len(y_true)):\n",
    "        if y_true[i] == y_pred[i]:\n",
    "            correct += 1\n",
    "    return correct / len(y_true)\n",
    "\n",
    "\n",
    "# HMM结果\n",
    "print(\"HMM结果\")\n",
    "print(\"train set accuracy:\", round(evaluate(y_train_encoded, y_train_pred), 4))\n",
    "print(\"test set accuracy:\", round(evaluate(y_test_encoded, y_test_pred), 4))"
   ]
  },
  {
   "cell_type": "markdown",
   "metadata": {},
   "source": [
    "## 二、RNN模型的应用（3分）"
   ]
  },
  {
   "cell_type": "markdown",
   "metadata": {},
   "source": [
    "### 2.1 数据准备和预处理（0.5分）"
   ]
  },
  {
   "cell_type": "markdown",
   "metadata": {},
   "source": [
    "### 字符的编码"
   ]
  },
  {
   "cell_type": "markdown",
   "metadata": {},
   "source": [
    "本部分所有代码均可根据自己实现需要进行增删改，所给代码只是一种实现的参考模版。"
   ]
  },
  {
   "cell_type": "code",
   "execution_count": 8,
   "metadata": {},
   "outputs": [],
   "source": [
    "# 统计字符\n",
    "s = set()\n",
    "for path in findFiles('data/*.txt'):\n",
    "    f = open(path,\"r\")\n",
    "    for word in f.readlines():\n",
    "        for char in word:\n",
    "            s.add(char)\n",
    "    f.close()\n",
    "all_letters = \"\"\n",
    "for c in s:\n",
    "    all_letters+=str(c)\n",
    "\n",
    "n_letters = len(all_letters)"
   ]
  },
  {
   "cell_type": "code",
   "execution_count": 9,
   "metadata": {},
   "outputs": [],
   "source": [
    "#function to create name representation\n",
    "\n",
    "def name_rep(name):\n",
    "    rep = torch.zeros(len(name), 1, n_letters)\n",
    "    for index, letter in enumerate(name):\n",
    "        pos = all_letters.find(letter)\n",
    "        rep[index][0][pos] = 1\n",
    "    return rep"
   ]
  },
  {
   "cell_type": "code",
   "execution_count": 10,
   "metadata": {},
   "outputs": [],
   "source": [
    "#function to create lang representation\n",
    "\n",
    "def nat_rep(lang):\n",
    "    return torch.tensor([tags.index(lang)], dtype = torch.long)"
   ]
  },
  {
   "cell_type": "code",
   "execution_count": 11,
   "metadata": {},
   "outputs": [],
   "source": [
    "#create a dataloader\n",
    "\n",
    "def dataloader(batch_size, X_, y_):\n",
    "    to_ret = []\n",
    "    # TODO: 0.5分\n",
    "    for i in range(batch_size):\n",
    "        index_ = np.random.randint(len(X_))\n",
    "        name, lang = X_[index_], y_[index_] #get the data at the random index\n",
    "        to_ret.append((name, lang, name_rep(name), nat_rep(lang)))\n",
    "    return to_ret"
   ]
  },
  {
   "cell_type": "markdown",
   "metadata": {},
   "source": [
    "### 2.2 RNN网络的搭建（1分）"
   ]
  },
  {
   "cell_type": "code",
   "execution_count": 12,
   "metadata": {},
   "outputs": [],
   "source": [
    "class RNN_net(nn.Module):\n",
    "    # TODO: 1分\n",
    "    def __init__(self, embedding_dim, hidden_size, output_size):\n",
    "        super(RNN_net, self).__init__()\n",
    "        self.hidden_size = hidden_size\n",
    "        self.i2h = nn.Linear(embedding_dim + hidden_size, hidden_size)\n",
    "        self.h2o = nn.Linear(hidden_size, output_size)\n",
    "        self.softmax = nn.LogSoftmax(dim=1)\n",
    "        \n",
    "    def forward(self, input_, hidden):\n",
    "        combined = torch.cat((input_, hidden), 1)\n",
    "        hidden = self.i2h(combined)\n",
    "        output = self.h2o(hidden)\n",
    "        output = self.softmax(output)\n",
    "        return output, hidden\n",
    "        \n",
    "    def init_hidden(self):\n",
    "        return torch.zeros(1, self.hidden_size) "
   ]
  },
  {
   "cell_type": "markdown",
   "metadata": {},
   "source": [
    "### 2.3 模型的训练（1分）"
   ]
  },
  {
   "cell_type": "code",
   "execution_count": 13,
   "metadata": {},
   "outputs": [],
   "source": [
    "# function to train the data\n",
    "\n",
    "def train_step(net, opt, criterion, batch_size):\n",
    "    \n",
    "    # TODO: 0.5分      \n",
    "           \n",
    "    opt.zero_grad()\n",
    "    total_loss = 0\n",
    "    data_ = dataloader(batch_size, X_train, y_train)\n",
    "    for name, language, name_ohe, lang_rep in data_:\n",
    "\n",
    "        hidden = net.init_hidden()\n",
    "\n",
    "        for i in range(name_ohe.size()[0]):\n",
    "            output, hidden = net(name_ohe[i], hidden)\n",
    "            \n",
    "        loss = criterion(output, lang_rep)\n",
    "        loss.backward(retain_graph=True)\n",
    "        \n",
    "        total_loss += loss\n",
    "        \n",
    "    opt.step() \n",
    "         \n",
    "    return total_loss/batch_size"
   ]
  },
  {
   "cell_type": "code",
   "execution_count": 14,
   "metadata": {},
   "outputs": [],
   "source": [
    "def train(net, lr = 0.01, steps = 100, batch_size = 10, momentum = 0.9, freq = 5):\n",
    "\n",
    "\n",
    "    # TODO: 0.5分\n",
    "    criterion = nn.CrossEntropyLoss()\n",
    "    opt = torch.optim.Adam(net.parameters(), lr=lr)\n",
    "    net.train()\n",
    "    loss_arr = np.zeros(steps)\n",
    "    #iterate through all the batches\n",
    "    for i in range(steps):\n",
    "        loss_arr[i] = train_step(net, opt, criterion, batch_size)\n",
    "        if (i+1)%freq==0: \n",
    "            print(\"Iteration number:\", i + 1,'Loss:', round(loss_arr[i],4))\n",
    "\n",
    "    plt.figure()\n",
    "    plt.plot(loss_arr, \"-*\")\n",
    "    plt.xlabel(\"Iteration\")\n",
    "    plt.ylabel(\"Loss\")\n",
    "    plt.show()\n",
    "    print(\"\\n\\n\")"
   ]
  },
  {
   "cell_type": "code",
   "execution_count": 15,
   "metadata": {},
   "outputs": [
    {
     "name": "stdout",
     "output_type": "stream",
     "text": [
      "Iteration number: 5 Loss: 2.5367\n",
      "Iteration number: 10 Loss: 2.4825\n",
      "Iteration number: 15 Loss: 2.3876\n",
      "Iteration number: 20 Loss: 2.2298\n",
      "Iteration number: 25 Loss: 2.1833\n",
      "Iteration number: 30 Loss: 2.1372\n",
      "Iteration number: 35 Loss: 2.0233\n",
      "Iteration number: 40 Loss: 2.0973\n",
      "Iteration number: 45 Loss: 2.0237\n",
      "Iteration number: 50 Loss: 2.0742\n",
      "Iteration number: 55 Loss: 2.0788\n",
      "Iteration number: 60 Loss: 2.0106\n",
      "Iteration number: 65 Loss: 1.9811\n",
      "Iteration number: 70 Loss: 1.974\n",
      "Iteration number: 75 Loss: 1.9743\n",
      "Iteration number: 80 Loss: 1.8843\n",
      "Iteration number: 85 Loss: 1.8065\n",
      "Iteration number: 90 Loss: 1.8837\n",
      "Iteration number: 95 Loss: 1.8556\n",
      "Iteration number: 100 Loss: 1.8595\n"
     ]
    },
    {
     "data": {
      "image/png": "[encoded data removed]",
      "text/plain": [
       "<Figure size 640x480 with 1 Axes>"
      ]
     },
     "metadata": {},
     "output_type": "display_data"
    },
    {
     "name": "stdout",
     "output_type": "stream",
     "text": [
      "\n",
      "\n",
      "\n"
     ]
    }
   ],
   "source": [
    "# RNN训练\n",
    "n_hidden = 128\n",
    "rnn_net = RNN_net(n_letters, n_hidden, n_tags)\n",
    "train(rnn_net, lr = 0.0005, steps = 100, batch_size = 256)"
   ]
  },
  {
   "cell_type": "markdown",
   "metadata": {},
   "source": [
    "### 2.4 模型的评估（0.5分）"
   ]
  },
  {
   "cell_type": "code",
   "execution_count": 16,
   "metadata": {},
   "outputs": [],
   "source": [
    "def infer(net, name):\n",
    "    net.eval()\n",
    "    name_ohe = name_rep(name)\n",
    "    hidden = net.init_hidden()\n",
    "\n",
    "    for i in range(name_ohe.size()[0]):\n",
    "        output, hidden = net(name_ohe[i], hidden)\n",
    "\n",
    "    return output"
   ]
  },
  {
   "cell_type": "code",
   "execution_count": 17,
   "metadata": {},
   "outputs": [],
   "source": [
    "#create a function to evaluate model\n",
    "\n",
    "def eval_test(net):\n",
    "     correct = 0\n",
    "     for i in range(len(X_test)):\n",
    "        name,lang = X_test[i],y_test[i]\n",
    "        name_ohe = name_rep(name)\n",
    "        lang_rep = nat_rep(lang)\n",
    "        output = infer(net, name) \n",
    "        val, indices = output.topk(1) \n",
    "    \n",
    "        if indices == lang_rep:\n",
    "            correct += 1\n",
    "     accuracy = correct/len(X_test)\n",
    "\n",
    "     return accuracy"
   ]
  },
  {
   "cell_type": "code",
   "execution_count": 18,
   "metadata": {},
   "outputs": [],
   "source": [
    "#create a function to evaluate model\n",
    "\n",
    "def eval_train(net):\n",
    "     # TODO: 0.5分\n",
    "     correct = 0\n",
    "     for i in range(len(X_train)):\n",
    "        name,lang = X_train[i],y_train[i]\n",
    "        name_ohe = name_rep(name)\n",
    "        lang_rep = nat_rep(lang)\n",
    "        output = infer(net, name) \n",
    "        val, indices = output.topk(1) \n",
    "    \n",
    "        if indices == lang_rep:\n",
    "            correct += 1\n",
    "     accuracy = correct/len(X_train)\n",
    "     return accuracy"
   ]
  },
  {
   "cell_type": "code",
   "execution_count": 19,
   "metadata": {},
   "outputs": [
    {
     "name": "stdout",
     "output_type": "stream",
     "text": [
      "rnn结果\n",
      "train set accuracy:0.3936\n",
      "test set accuracy:0.3927\n"
     ]
    }
   ],
   "source": [
    "print(\"rnn结果\")\n",
    "print(\"train set accuracy:\"+str(round(eval_train(rnn_net),4)))\n",
    "print(\"test set accuracy:\"+str(round(eval_test(rnn_net),4)))"
   ]
  },
  {
   "cell_type": "markdown",
   "metadata": {},
   "source": [
    "## 三、预训练模型的使用（3分）"
   ]
  },
  {
   "cell_type": "markdown",
   "metadata": {},
   "source": [
    "### 3.1 数据准备和预处理，模型的导入（0.5分）"
   ]
  },
  {
   "cell_type": "code",
   "execution_count": 20,
   "metadata": {},
   "outputs": [],
   "source": [
    "import torch\n",
    "from transformers import BertTokenizer, BertModel\n",
    "from sklearn.linear_model import LogisticRegression\n",
    "from sklearn.metrics import accuracy_score\n",
    "import numpy as np\n",
    "\n",
    "# 初始化BERT模型和tokenizer\n",
    "tokenizer = BertTokenizer.from_pretrained(\"D:\\model\")\n",
    "bert_model = BertModel.from_pretrained(\"D:\\model\")"
   ]
  },
  {
   "cell_type": "markdown",
   "metadata": {},
   "source": [
    "### 3.2 使用BERT进行特征提取（1分）"
   ]
  },
  {
   "cell_type": "code",
   "execution_count": 21,
   "metadata": {},
   "outputs": [],
   "source": [
    "# 提取BERT特征\n",
    "def extract_bert_features(data):\n",
    "\n",
    "    # TODO: 1分\n",
    "    inputs = tokenizer(data, return_tensors='pt', padding=True, truncation=True, max_length=512)\n",
    "    with torch.no_grad():\n",
    "        outputs = bert_model(**inputs)\n",
    "    # Use the [CLS] token representation as the feature\n",
    "    features = outputs.last_hidden_state[:, 0, :].numpy()\n",
    "    return features\n",
    "\n",
    "# 提取训练集和测试集的特征\n",
    "X_train_features = extract_bert_features(X_train)\n",
    "X_test_features = extract_bert_features(X_test)"
   ]
  },
  {
   "cell_type": "code",
   "execution_count": 22,
   "metadata": {},
   "outputs": [],
   "source": [
    "# 标签编码\n",
    "le = LabelEncoder()\n",
    "y_train_encoded = le.fit_transform(y_train)\n",
    "y_test_encoded = le.transform(y_test)"
   ]
  },
  {
   "cell_type": "markdown",
   "metadata": {},
   "source": [
    "### 3.3 使用一个分类器对提取好的特征进行分类（1分）"
   ]
  },
  {
   "cell_type": "code",
   "execution_count": 23,
   "metadata": {},
   "outputs": [
    {
     "name": "stderr",
     "output_type": "stream",
     "text": [
      "c:\\Users\\iculi\\AppData\\Local\\Programs\\Python\\Python38\\lib\\site-packages\\sklearn\\linear_model\\_logistic.py:460: ConvergenceWarning: lbfgs failed to converge (status=1):\n",
      "STOP: TOTAL NO. of ITERATIONS REACHED LIMIT.\n",
      "\n",
      "Increase the number of iterations (max_iter) or scale the data as shown in:\n",
      "    https://scikit-learn.org/stable/modules/preprocessing.html\n",
      "Please also refer to the documentation for alternative solver options:\n",
      "    https://scikit-learn.org/stable/modules/linear_model.html#logistic-regression\n",
      "  n_iter_i = _check_optimize_result(\n"
     ]
    },
    {
     "data": {
      "text/html": [
       "<style>#sk-container-id-2 {color: black;}#sk-container-id-2 pre{padding: 0;}#sk-container-id-2 div.sk-toggleable {background-color: white;}#sk-container-id-2 label.sk-toggleable__label {cursor: pointer;display: block;width: 100%;margin-bottom: 0;padding: 0.3em;box-sizing: border-box;text-align: center;}#sk-container-id-2 label.sk-toggleable__label-arrow:before {content: \"▸\";float: left;margin-right: 0.25em;color: #696969;}#sk-container-id-2 label.sk-toggleable__label-arrow:hover:before {color: black;}#sk-container-id-2 div.sk-estimator:hover label.sk-toggleable__label-arrow:before {color: black;}#sk-container-id-2 div.sk-toggleable__content {max-height: 0;max-width: 0;overflow: hidden;text-align: left;background-color: #f0f8ff;}#sk-container-id-2 div.sk-toggleable__content pre {margin: 0.2em;color: black;border-radius: 0.25em;background-color: #f0f8ff;}#sk-container-id-2 input.sk-toggleable__control:checked~div.sk-toggleable__content {max-height: 200px;max-width: 100%;overflow: auto;}#sk-container-id-2 input.sk-toggleable__control:checked~label.sk-toggleable__label-arrow:before {content: \"▾\";}#sk-container-id-2 div.sk-estimator input.sk-toggleable__control:checked~label.sk-toggleable__label {background-color: #d4ebff;}#sk-container-id-2 div.sk-label input.sk-toggleable__control:checked~label.sk-toggleable__label {background-color: #d4ebff;}#sk-container-id-2 input.sk-hidden--visually {border: 0;clip: rect(1px 1px 1px 1px);clip: rect(1px, 1px, 1px, 1px);height: 1px;margin: -1px;overflow: hidden;padding: 0;position: absolute;width: 1px;}#sk-container-id-2 div.sk-estimator {font-family: monospace;background-color: #f0f8ff;border: 1px dotted black;border-radius: 0.25em;box-sizing: border-box;margin-bottom: 0.5em;}#sk-container-id-2 div.sk-estimator:hover {background-color: #d4ebff;}#sk-container-id-2 div.sk-parallel-item::after {content: \"\";width: 100%;border-bottom: 1px solid gray;flex-grow: 1;}#sk-container-id-2 div.sk-label:hover label.sk-toggleable__label {background-color: #d4ebff;}#sk-container-id-2 div.sk-serial::before {content: \"\";position: absolute;border-left: 1px solid gray;box-sizing: border-box;top: 0;bottom: 0;left: 50%;z-index: 0;}#sk-container-id-2 div.sk-serial {display: flex;flex-direction: column;align-items: center;background-color: white;padding-right: 0.2em;padding-left: 0.2em;position: relative;}#sk-container-id-2 div.sk-item {position: relative;z-index: 1;}#sk-container-id-2 div.sk-parallel {display: flex;align-items: stretch;justify-content: center;background-color: white;position: relative;}#sk-container-id-2 div.sk-item::before, #sk-container-id-2 div.sk-parallel-item::before {content: \"\";position: absolute;border-left: 1px solid gray;box-sizing: border-box;top: 0;bottom: 0;left: 50%;z-index: -1;}#sk-container-id-2 div.sk-parallel-item {display: flex;flex-direction: column;z-index: 1;position: relative;background-color: white;}#sk-container-id-2 div.sk-parallel-item:first-child::after {align-self: flex-end;width: 50%;}#sk-container-id-2 div.sk-parallel-item:last-child::after {align-self: flex-start;width: 50%;}#sk-container-id-2 div.sk-parallel-item:only-child::after {width: 0;}#sk-container-id-2 div.sk-dashed-wrapped {border: 1px dashed gray;margin: 0 0.4em 0.5em 0.4em;box-sizing: border-box;padding-bottom: 0.4em;background-color: white;}#sk-container-id-2 div.sk-label label {font-family: monospace;font-weight: bold;display: inline-block;line-height: 1.2em;}#sk-container-id-2 div.sk-label-container {text-align: center;}#sk-container-id-2 div.sk-container {/* jupyter's `normalize.less` sets `[hidden] { display: none; }` but bootstrap.min.css set `[hidden] { display: none !important; }` so we also need the `!important` here to be able to override the default hidden behavior on the sphinx rendered scikit-learn.org. See: https://github.com/scikit-learn/scikit-learn/issues/21755 */display: inline-block !important;position: relative;}#sk-container-id-2 div.sk-text-repr-fallback {display: none;}</style><div id=\"sk-container-id-2\" class=\"sk-top-container\"><div class=\"sk-text-repr-fallback\"><pre>LogisticRegression(max_iter=1000)</pre><b>In a Jupyter environment, please rerun this cell to show the HTML representation or trust the notebook. <br />On GitHub, the HTML representation is unable to render, please try loading this page with nbviewer.org.</b></div><div class=\"sk-container\" hidden><div class=\"sk-item\"><div class=\"sk-estimator sk-toggleable\"><input class=\"sk-toggleable__control sk-hidden--visually\" id=\"sk-estimator-id-2\" type=\"checkbox\" checked><label for=\"sk-estimator-id-2\" class=\"sk-toggleable__label sk-toggleable__label-arrow\">LogisticRegression</label><div class=\"sk-toggleable__content\"><pre>LogisticRegression(max_iter=1000)</pre></div></div></div></div></div>"
      ],
      "text/plain": [
       "LogisticRegression(max_iter=1000)"
      ]
     },
     "execution_count": 23,
     "metadata": {},
     "output_type": "execute_result"
    }
   ],
   "source": [
    "# TODO: 1分\n",
    "clf = LogisticRegression(max_iter=1000)\n",
    "clf.fit(X_train_features, y_train_encoded)"
   ]
  },
  {
   "cell_type": "code",
   "execution_count": 24,
   "metadata": {},
   "outputs": [],
   "source": [
    "# 预测\n",
    "y_train_pred = clf.predict(X_train_features)\n",
    "y_test_pred = clf.predict(X_test_features)"
   ]
  },
  {
   "cell_type": "markdown",
   "metadata": {},
   "source": [
    "### 3.4 评估结果（0.5分）"
   ]
  },
  {
   "cell_type": "code",
   "execution_count": 25,
   "metadata": {},
   "outputs": [
    {
     "name": "stdout",
     "output_type": "stream",
     "text": [
      "BERT结果\n",
      "train set accuracy: 0.602\n",
      "test set accuracy: 0.4149\n"
     ]
    }
   ],
   "source": [
    "# 评估函数\n",
    "def evaluate(y_true, y_pred):\n",
    "    # TODO: 0.5分\n",
    "    return accuracy_score(y_true, y_pred)\n",
    "\n",
    "# BERT结果\n",
    "print(\"BERT结果\")\n",
    "print(\"train set accuracy:\", round(evaluate(y_train_encoded, y_train_pred), 4))\n",
    "print(\"test set accuracy:\", round(evaluate(y_test_encoded, y_test_pred), 4))"
   ]
  },
  {
   "cell_type": "markdown",
   "metadata": {},
   "source": [
    "## 四、三种模型的总结与分析（1分）\n",
    "\n",
    "请简述这次作业使用的数据集在三种模型下的表现产生显著差异的原因，并且给出能够提高HMM表现的数据加强方式。\n",
    "\n",
    "\n",
    "### 模型表现差异的原因\n",
    "\n",
    "#### 1. 隐马尔可夫模型（HMM）\n",
    "\n",
    "- **特征依赖性**：HMM依赖于词和词性之间的简单概率关系，假设词序列是通过马尔可夫过程生成的。它适用于序列长度较短或特征简单的任务。\n",
    "- **局限性**：HMM的参数是通过统计数据进行估计的，对于复杂的语言现象（如长距离依赖关系和多义词）处理能力有限。\n",
    "- **维度诅咒**：随着序列长度的增加，状态数目呈指数增长，导致模型复杂度急剧增加。\n",
    "\n",
    "#### 2. 循环神经网络（RNN）\n",
    "\n",
    "- **特征捕捉**：RNN通过隐状态（hidden state）捕捉词序列中的长短期依赖关系，因此能够比HMM更好地处理上下文信息。\n",
    "- **长距离依赖问题**：标准的RNN在处理长距离依赖时存在梯度消失和梯度爆炸问题，这限制了其在长序列上的表现。\n",
    "- **改进变体**：长短期记忆网络（LSTM）和门控循环单元（GRU）等变体通过引入门机制部分解决了长距离依赖问题。\n",
    "\n",
    "#### 3. BERT（基于Transformer架构）\n",
    "\n",
    "- **双向注意力机制**：BERT采用自注意力机制，可以同时考虑序列中所有词之间的依赖关系，因此能够更好地捕捉长距离依赖和复杂的上下文关系。\n",
    "- **预训练和微调**：BERT首先在大规模语料库上进行无监督预训练，然后在特定任务上进行微调，显著提高了模型的泛化能力和表现。\n",
    "- **计算成本**：BERT的多层Transformer架构虽然强大，但也带来了高计算和存储成本。\n",
    "\n",
    "### 提高HMM表现的数据增强方式\n",
    "\n",
    "为了提高HMM在特定任务中的表现，可以采用以下数据增强方式：\n",
    "\n",
    "#### 1. 增加数据量\n",
    "\n",
    "- **扩展词典和语料库**：收集更多的文本数据，扩展词典，提高模型的训练数据量，有助于更好地估计转移概率和发射概率。\n",
    "\n",
    "#### 2. 增强数据质量\n",
    "\n",
    "- **数据清洗和预处理**：去除噪声数据，标准化文本格式，提高数据质量，使模型能够更准确地学习词性和词之间的关系。\n",
    "\n",
    "#### 3. 特征工程\n",
    "\n",
    "- **引入更多上下文特征**：不仅仅依赖于当前词和前一个词的关系，可以考虑引入前后n个词的上下文信息作为特征。\n",
    "- **添加外部词性词典**：结合外部词性标注词典，提高模型的初始参数估计精度。\n",
    "\n",
    "#### 4. 半监督学习\n",
    "\n",
    "- **伪标签生成**：利用部分标注数据训练初步模型，然后用该模型为未标注数据生成伪标签，扩充训练数据集。\n",
    "\n",
    "#### 5. 混合模型\n",
    "\n",
    "- **结合其他模型的输出**：利用RNN或BERT的预测结果作为HMM的输入特征，结合多种模型的优势，提高HMM的表现。\n"
   ]
  },
  {
   "cell_type": "markdown",
   "metadata": {},
   "source": [
    "## 附加题：期末笔试题目的参考"
   ]
  },
  {
   "cell_type": "markdown",
   "metadata": {},
   "source": [
    "### 附加题 马尔可夫模型的原理理解（1分）\n",
    "\n",
    "(1) 阅读以下题目，补全solve函数，并且将结果提交到codeforces平台上，将代码运行结果截图（包含用户名、AC的结果、运行时间等信息）（0.5分）\n",
    "\n",
    "提交的网址：https://codeforces.com/problemset/problem/1025/G"
   ]
  },
  {
   "cell_type": "markdown",
   "metadata": {},
   "source": [
    "运行结果截图\n",
    "\n",
    "<img src = '31.png' >"
   ]
  },
  {
   "cell_type": "code",
   "execution_count": 26,
   "metadata": {},
   "outputs": [
    {
     "ename": "IndentationError",
     "evalue": "expected an indented block (934356517.py, line 4)",
     "output_type": "error",
     "traceback": [
      "\u001b[1;36m  Cell \u001b[1;32mIn[26], line 4\u001b[1;36m\u001b[0m\n\u001b[1;33m    n=int(input())\u001b[0m\n\u001b[1;37m    ^\u001b[0m\n\u001b[1;31mIndentationError\u001b[0m\u001b[1;31m:\u001b[0m expected an indented block\n"
     ]
    }
   ],
   "source": [
    "n=int(input())\n",
    "lis=input().split()\n",
    "\n",
    "siz = [0] * (n+1)\n",
    "for i in range(n):\n",
    "    lis[i] = int(lis[i])\n",
    "    if lis[i] > 0:\n",
    "        siz[lis[i]] += 1\n",
    "r = 0\n",
    "for i in range(n+1):\n",
    "    r += 2**siz[i] - 1\n",
    "\n",
    "r = 2**(n-1) - 1 - r\n",
    "print(int(r % (10**9 + 7)))"
   ]
  },
  {
   "cell_type": "markdown",
   "metadata": {},
   "source": [
    "(2) 对以上代码的正确性给出证明（0.5分）"
   ]
  },
  {
   "cell_type": "markdown",
   "metadata": {},
   "source": [
    "- 设收购了n家公司的活跃公司势能函数为$f(n)$\n",
    "- 公司索引为$i$\n",
    "- 总势能函数为$g(t)=\\sum_i f(n)$\n",
    "为保证$E[g(t+1)|某一局面]=E[g(t)|某一局面]+1$,对$\\forall x,y$,有:\n",
    "$$f(x)+f(y)+1=\\frac{1}{2}(xf(0)+f(y+1))+\\frac{1}{2}(f(x+1)+yf(0))$$"
   ]
  },
  {
   "cell_type": "markdown",
   "metadata": {},
   "source": [
    "令$y=x$,得到\n",
    "$$2f(x)+1=xf(0)+f(x+1)$$\n",
    "解得$$f(x)=2^x-1+(x+1)f(0)$$\n",
    "验证发现符合条件.此时,\n",
    "$$E(t|局面为最终局面)=T\\Rightarrow=E[g(T)]=(n-1)f(0)+f(n-1)=T+E[g(0)]$$\n",
    "$$\\Rightarrow T=2^n+n-1-\\sum 2^{siz[i]},其中siz[i]是初始时第i家公司收购的公司数量$$\n"
   ]
  }
 ],
 "metadata": {
  "kernelspec": {
   "display_name": "Python 3 (ipykernel)",
   "language": "python",
   "name": "python3"
  },
  "language_info": {
   "codemirror_mode": {
    "name": "ipython",
    "version": 3
   },
   "file_extension": ".py",
   "mimetype": "text/x-python",
   "name": "python",
   "nbconvert_exporter": "python",
   "pygments_lexer": "ipython3",
   "version": "3.8.10"
  }
 },
 "nbformat": 4,
 "nbformat_minor": 4
}
