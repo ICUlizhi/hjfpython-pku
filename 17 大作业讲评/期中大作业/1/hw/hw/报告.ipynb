{
 "cells": [
  {
   "cell_type": "markdown",
   "metadata": {},
   "source": [
    "# Python程序设计与数据科学导论期中大作业报告\n",
    "#### 徐靖 2200012917 信息科学技术学院\n",
    "## 主题 : 基于观影数据集的数据分析与挖掘"
   ]
  },
  {
   "cell_type": "markdown",
   "metadata": {},
   "source": [
    "## 一、传统偏好发现\n",
    "- 衡量偏好程度的指标(下为指标函数计算代码)"
   ]
  },
  {
   "cell_type": "code",
   "execution_count": null,
   "metadata": {},
   "outputs": [],
   "source": [
    "# 指标一 : (年龄段平均打分-全局平均打分)*观影人数\n",
    "score['score1'] = score['delta_rating'] * np.log(score['count'])\n",
    "print(f\"{value} \")\n",
    "\n",
    "# 指标二 : 统计量：𝑅𝑎=𝑊𝑅+(1−𝑊)𝑅0\n",
    "alpha = 0.5\n",
    "score['score2'] = alpha * score['count'] / score['count'].mean()\n",
    "score['score2'] = score['score2'].apply(lambda x: min(x, 1))\n",
    "score['score2'] = score['score2'] * score['rating'] + (1 - score['score2']) * mean_rating"
   ]
  },
  {
   "cell_type": "markdown",
   "metadata": {},
   "source": [
    "- 不同年龄段用户的前10个电影(这里只展示了under 18,代码里均有输出)\n",
    "\n",
    "<img src = '1.png' width=500>"
   ]
  },
  {
   "cell_type": "markdown",
   "metadata": {},
   "source": [
    "- 基于电影风格的可视化\n",
    "  - 用于可视化的数据处理"
   ]
  },
  {
   "cell_type": "code",
   "execution_count": null,
   "metadata": {},
   "outputs": [],
   "source": [
    "for i in genre_list:\n",
    "    for j in unique_values:\n",
    "        data_2 = datas[j]\n",
    "        data_2_genre = data_2[data_2[i] == 1]\n",
    "        mean = data_2_genre.rating.mean()\n",
    "        std = data_2_genre.rating.std()\n",
    "        data_2_genre.rating = (data_2_genre.rating - mean) / std\n",
    "        df_2.loc[i, (j, 'mean')] = mean\n",
    "        df_2.loc[i, (j, 'std')] = std\n",
    "        df_2.loc[i, (j, 'count')] = data_2_genre.shape[0]\n",
    "        df_2.loc[i, (j, 'portion')] = df_2.loc[i, (j, 'count')] / num_movies\n",
    "        genre_rating.append(data_2_genre.rating.to_list())\n",
    "\n",
    "for i in genre_list:\n",
    "    sumterm = 0 \n",
    "    for j in unique_values:\n",
    "        sumterm += df_2.loc[i, (j, 'count')]\n",
    "    for j in unique_values:\n",
    "        df_2.loc[i, (j, 'precentage')] = df_2.loc[i, (j, 'count')] / sumterm\n",
    "\n",
    "df_2"
   ]
  },
  {
   "cell_type": "markdown",
   "metadata": {},
   "source": [
    "  - 不同年龄用户对不同类型电影的评分\n",
    "  - 不同年龄用户对不同类型电影的观看数量\n",
    "  - 不同年龄用户占不同类型电影观看数量比率\n",
    "\n",
    "<img src = '1-2.png' width = 500>\n",
    "\n",
    "<img src = '1-3.png' width = 500>\n",
    "\n",
    "<img src = '1-4.png' width = 500>"
   ]
  },
  {
   "cell_type": "markdown",
   "metadata": {},
   "source": [
    "## 二、用户对电影的打分预测"
   ]
  },
  {
   "cell_type": "markdown",
   "metadata": {},
   "source": [
    "#### 1.特征工程\n",
    "- Onehot编码"
   ]
  },
  {
   "cell_type": "code",
   "execution_count": null,
   "metadata": {},
   "outputs": [],
   "source": [
    "df = pd.concat([df, pd.get_dummies(df['age_desc'])], axis=1)\n",
    "df = pd.concat([df, pd.get_dummies(df['occ_desc'])], axis=1)\n",
    "df = pd.concat([df, pd.get_dummies(df['gender'])], axis=1)\n",
    "df.drop(['timestamp', 'zipcode','genres','title','gender','age_desc','occ_desc'], axis=1, inplace=True)"
   ]
  },
  {
   "cell_type": "markdown",
   "metadata": {},
   "source": [
    "- PCA降维"
   ]
  },
  {
   "cell_type": "code",
   "execution_count": null,
   "metadata": {},
   "outputs": [],
   "source": [
    "pca = PCA(n_components=0.9)  \n",
    "X_train_pca = pca.fit_transform(X_train)\n",
    "X_test_pca = pca.transform(X_test)"
   ]
  },
  {
   "cell_type": "markdown",
   "metadata": {},
   "source": [
    "- 使用TF-IDF,将电影简介转化为特征"
   ]
  },
  {
   "cell_type": "code",
   "execution_count": null,
   "metadata": {},
   "outputs": [],
   "source": [
    "tfidf_vectorizer = TfidfVectorizer(max_features=100)  # Choose the top 100 most important features\n",
    "intro_tfidf_features = tfidf_vectorizer.fit_transform(df['intro'])\n",
    "intro_tfidf_df = pd.DataFrame(intro_tfidf_features.toarray(), columns=tfidf_vectorizer.get_feature_names_out())\n",
    "df.reset_index(drop=True, inplace=True)\n",
    "df = pd.concat([df, intro_tfidf_df], axis=1)"
   ]
  },
  {
   "cell_type": "markdown",
   "metadata": {},
   "source": [
    "2.模型训练\n",
    "- 数据集拆分"
   ]
  },
  {
   "cell_type": "code",
   "execution_count": null,
   "metadata": {},
   "outputs": [],
   "source": [
    "y = df['rating']\n",
    "X = df.drop(['rating','movie_id','user_id'] ,axis=1)\n",
    "X_train, X_test, y_train, y_test = train_test_split(X, y, test_size=0.2, random_state=42)"
   ]
  },
  {
   "cell_type": "markdown",
   "metadata": {},
   "source": [
    "- 选用神经网络进行训练"
   ]
  },
  {
   "cell_type": "code",
   "execution_count": null,
   "metadata": {},
   "outputs": [],
   "source": [
    "model = Sequential([\n",
    "    Dense(64, activation='relu', input_shape=(X_train_pca.shape[1],)),\n",
    "    Dropout(0.2),\n",
    "    Dense(32, activation='relu'),\n",
    "    Dropout(0.2),\n",
    "    Dense(1, activation='linear')  # 线性激活函数用于回归任务\n",
    "])\n",
    "\n",
    "model.compile(optimizer='adam', loss='mean_squared_error')\n",
    "history = model.fit(X_train_pca, y_train, epochs=10, batch_size=64, validation_split=0.2)"
   ]
  },
  {
   "cell_type": "markdown",
   "metadata": {},
   "source": [
    "#### 3. numpy实现mse函数,并进行预测"
   ]
  },
  {
   "cell_type": "code",
   "execution_count": null,
   "metadata": {},
   "outputs": [],
   "source": [
    "y_test_pred = model.predict(X_test_pca)\n",
    "mse = np.mean((y_test.values-y_test_pred.transpose())**2)\n",
    "print(mse)"
   ]
  },
  {
   "cell_type": "markdown",
   "metadata": {},
   "source": [
    "- 得到的mse\n",
    "  - 最后去掉了PCA降维\n",
    "\n",
    "<img src='221.png' width = 500>"
   ]
  },
  {
   "cell_type": "markdown",
   "metadata": {},
   "source": [
    "## 三、海报按内容聚类\n",
    "#### 1. 图像特征提取"
   ]
  },
  {
   "cell_type": "code",
   "execution_count": null,
   "metadata": {},
   "outputs": [],
   "source": [
    "# 提取颜色直方图和灰度直方图特征\n",
    "color_hist = cv2.calcHist([image], [0, 1, 2], None, [8, 8, 8], [0, 256, 0, 256, 0, 256])\n",
    "color_hist = cv2.normalize(color_hist, color_hist).flatten()  # 归一化并展开成一维数组\n",
    "\n",
    "gray_image = cv2.cvtColor(image, cv2.COLOR_BGR2GRAY)\n",
    "gray_hist = cv2.calcHist([gray_image], [0], None, [256], [0, 256])\n",
    "gray_hist = cv2.normalize(gray_hist, gray_hist).flatten()  # 归一化并展开成一维数组\n",
    "\n",
    "# 使用Img2Vec模型提取特征向量\n",
    "image_pil = Image.open(image_path)\n",
    "if image_pil.mode != 'RGB':\n",
    "    image_pil = image_pil.convert('RGB')\n",
    "vector = img2vec_model.get_vec(image_pil)\n",
    "\n",
    "# 拼接特征向量\n",
    "# feature_vector = np.concatenate((color_hist, gray_hist, vector))\n",
    "feature_vector = vector #显然用直方图效果不太好"
   ]
  },
  {
   "cell_type": "markdown",
   "metadata": {},
   "source": [
    "#### 2.降维\n",
    "- pca降维"
   ]
  },
  {
   "cell_type": "code",
   "execution_count": null,
   "metadata": {},
   "outputs": [],
   "source": [
    "pca = PCA(n_components=2)  \n",
    "pca_result = pca.fit_transform(features)\n",
    "df_pca = df.copy()\n",
    "df_pca = pd.concat([df_pca, pd.DataFrame(pca_result)], axis=1)\n",
    "df_pca = df_pca.drop('features', axis=1)"
   ]
  },
  {
   "cell_type": "markdown",
   "metadata": {},
   "source": [
    "- 尝试了t-SNE降维\n",
    "\n",
    "<img src = 't-SNE_visualization.png' width = 500>"
   ]
  },
  {
   "cell_type": "code",
   "execution_count": null,
   "metadata": {},
   "outputs": [],
   "source": [
    "tsne = TSNE(n_components=2)  # 选择要降到的维度，这里选择2维\n",
    "tsne_result = tsne.fit_transform(features)\n",
    "# 将降维结果添加到DataFrame中\n",
    "df_tsne = df.copy()\n",
    "df_tsne['tsne_1'] = tsne_result[:, 0]\n",
    "df_tsne['tsne_2'] = tsne_result[:, 1]"
   ]
  },
  {
   "cell_type": "markdown",
   "metadata": {},
   "source": [
    "#### 3.无监督聚类"
   ]
  },
  {
   "cell_type": "code",
   "execution_count": null,
   "metadata": {},
   "outputs": [],
   "source": [
    "X = df_pca.drop(columns=['movie_id']).values\n",
    "kmeans = KMeans(n_clusters=5)  \n",
    "kmeans.fit(X)\n",
    "df['cluster'] = kmeans.labels_"
   ]
  },
  {
   "cell_type": "markdown",
   "metadata": {},
   "source": [
    "<img src='3.png' width = 500>"
   ]
  },
  {
   "cell_type": "markdown",
   "metadata": {},
   "source": [
    "#### 4.有监督聚类"
   ]
  },
  {
   "cell_type": "markdown",
   "metadata": {},
   "source": [
    "- 划分数据集"
   ]
  },
  {
   "cell_type": "code",
   "execution_count": null,
   "metadata": {},
   "outputs": [],
   "source": [
    "features = np.array(merged_df['features'].tolist())\n",
    "cluster = np.array(merged_df['cluster'].tolist())\n",
    "X = np.concatenate((features, cluster[:, np.newaxis]), axis=1) \n",
    "y = np.array(merged_df['genre_vector'].tolist())"
   ]
  },
  {
   "cell_type": "markdown",
   "metadata": {},
   "source": [
    "- 对比了k近邻,随机森林的效果,最终选择了使用神经网络做分类,细节见代码\n",
    "  - 发现不降维比降维效果好"
   ]
  },
  {
   "cell_type": "code",
   "execution_count": null,
   "metadata": {},
   "outputs": [],
   "source": [
    "model = tf.keras.Sequential([\n",
    "    tf.keras.layers.Input(shape=(X_train.shape[1],)),  # 输入层\n",
    "    tf.keras.layers.Dense(256, activation=tf.nn.leaky_relu),  # 隐藏层\n",
    "    tf.keras.layers.Dropout(0.3),  # Dropout层，丢弃30%的神经元\n",
    "    tf.keras.layers.Dense(128, activation='relu'),  # 隐藏层\n",
    "    tf.keras.layers.Dropout(0.5),  # Dropout层，丢弃50%的神经元\n",
    "    tf.keras.layers.Dense(64, activation='relu'),  # 隐藏层\n",
    "    tf.keras.layers.Dropout(0.5),  # Dropout层，丢弃50%的神经元\n",
    "    tf.keras.layers.Dense(18, activation='sigmoid')  # 输出层，因为是多标签分类，使用sigmoid激活函数\n",
    "])\n",
    "\n",
    "# 编译模型\n",
    "model.compile(optimizer='adam',\n",
    "              loss='binary_crossentropy',  # 多标签分类问题，使用交叉熵损失函数\n",
    "              metrics=['accuracy'])\n",
    "\n",
    "# 训练模型\n",
    "model.fit(X_train, y_train, epochs=100, batch_size=64, validation_split=0.08)"
   ]
  },
  {
   "cell_type": "markdown",
   "metadata": {},
   "source": [
    "- 最终的accuracy: \n",
    "\n",
    "<img src='333.png' width=500>"
   ]
  },
  {
   "cell_type": "markdown",
   "metadata": {},
   "source": [
    "无监督聚类结果信息加入到模型中表现不佳:\n",
    "- 无监督聚类算法可能对数据中的噪声或不相关信息产生过度敏感，导致聚类结果不稳定或不一致。这种不一致性可能会使得向监督学习模型传递的聚类信息不够准确或有误导性\n",
    "- feature维度较大,数据集小,在此情形下无监督聚类结果相对feature对训练模型影响小,同时实践证明聚类本身降低accuracy,因此无法通过对feature聚类提高无监督聚类结果信息对模型的影响"
   ]
  }
 ],
 "metadata": {
  "kernelspec": {
   "display_name": "Python 3 (ipykernel)",
   "language": "python",
   "name": "python3"
  },
  "language_info": {
   "codemirror_mode": {
    "name": "ipython",
    "version": 3
   },
   "file_extension": ".py",
   "mimetype": "text/x-python",
   "name": "python",
   "nbconvert_exporter": "python",
   "pygments_lexer": "ipython3",
   "version": "3.8.10"
  }
 },
 "nbformat": 4,
 "nbformat_minor": 4
}
