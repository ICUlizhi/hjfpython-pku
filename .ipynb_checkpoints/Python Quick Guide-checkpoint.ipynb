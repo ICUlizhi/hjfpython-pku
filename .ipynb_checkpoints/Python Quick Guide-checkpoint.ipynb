{
 "cells": [
  {
   "cell_type": "markdown",
   "id": "2c92006e-c330-403d-8ac9-5046e66025e1",
   "metadata": {},
   "source": [
    "### 0.Reference\n",
    "[1]:https://docs.python.org/3/reference/datamodel.html\n",
    "[2]:https://docs.python.org/zh-cn/3/reference/datamodel.html\n",
    "- [python官方文档][1]\n",
    "- [python官方文档中译][2]\n",
    "- [数据科学教材](https://github.com/jakevdp/PythonDataScienceHandbook)\n",
    "    - [数据分析技术教程](https://github.com/cuttlefishh/python-for-data-analysis )  \n",
    "- [Pytorch官方基础教程](https://pytorch.org/tutorials/beginner/basics/intro.html )\n",
    "    - [大作业?]( https://pytorch.org/tutorials/beginner/deep_learning_60min_blitz.htm)1 \n"
   ]
  },
  {
   "cell_type": "markdown",
   "id": "a3eff4c7-e16a-4180-b48c-173d65c7bfde",
   "metadata": {},
   "source": [
    "### 1.Data model \n",
    "- **关于可变不可变**<br/>\n",
    "每个对象都有各自的 *标识号*(identity) , *类型* 和 *值* .对象创建后标识号**不会改变**(可理解为其在内存中的地址).\n",
    "```is```可用于比较标识号是否相同,```id()```返回整数标识号,```type()```返回对象类型(类型本身也是对象)\n",
    "\n",
    "值可以改变的对象被称为 *可变对象* ,如字典和列表.反之称为 *不可变对象* ,如数字、字符串和元组.\n",
    "> 一个不可变容器对象如果包含对可变对象的引用,当后者的值改变时,前者的值也会改变.但是该容器仍属于不可变对象.因此,**不可变并不等于值不能改变**.\n",
    "- **关于垃圾回收**<br/>\n",
    "对于对象来说，每绑定一个名字，就在属性的引用计数上进行+1操作。每取消一个绑定就把引用计数-1\n",
    "环境会自动检测对象的引用计数来进行垃圾回收。因此，python的对象一般不需要显式的进行释放操作。\n",
    "\n"
   ]
  },
  {
   "cell_type": "markdown",
   "id": "b57a23fc-d8ea-4061-abce-48b93172f9a9",
   "metadata": {},
   "source": [
    "### 2.List\n"
   ]
  },
  {
   "cell_type": "markdown",
   "id": "2870b259-6b9d-41a9-a9c2-bddb0a65f2b5",
   "metadata": {},
   "source": []
  },
  {
   "cell_type": "code",
   "execution_count": null,
   "id": "f0f01c29-f462-4ec3-a379-f9ef07a951ea",
   "metadata": {},
   "outputs": [],
   "source": []
  },
  {
   "cell_type": "code",
   "execution_count": null,
   "id": "6329f724-a00a-4ddf-b7f6-d670898f6136",
   "metadata": {},
   "outputs": [],
   "source": []
  },
  {
   "cell_type": "code",
   "execution_count": null,
   "id": "89eabc57-fc88-482b-9bf3-30072fec008d",
   "metadata": {},
   "outputs": [],
   "source": []
  }
 ],
 "metadata": {
  "kernelspec": {
   "display_name": "Python 3 (ipykernel)",
   "language": "python",
   "name": "python3"
  },
  "language_info": {
   "codemirror_mode": {
    "name": "ipython",
    "version": 3
   },
   "file_extension": ".py",
   "mimetype": "text/x-python",
   "name": "python",
   "nbconvert_exporter": "python",
   "pygments_lexer": "ipython3",
   "version": "3.12.0"
  }
 },
 "nbformat": 4,
 "nbformat_minor": 5
}
